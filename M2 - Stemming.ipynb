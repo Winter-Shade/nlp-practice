{
 "cells": [
  {
   "cell_type": "markdown",
   "id": "8160b86d-db3d-4af9-940f-4a78e23c3fd3",
   "metadata": {},
   "source": [
    "## Porter Stemmer"
   ]
  },
  {
   "cell_type": "code",
   "execution_count": 1,
   "id": "6e5ecaca-bf39-4fc8-a93e-68d4bd247bdd",
   "metadata": {},
   "outputs": [],
   "source": [
    "from nltk.stem import PorterStemmer"
   ]
  },
  {
   "cell_type": "code",
   "execution_count": 5,
   "id": "6d1e3b49-782e-4ac3-9b10-9ec97472ebc2",
   "metadata": {},
   "outputs": [],
   "source": [
    "words = ['play', 'plays', 'playing', 'played', 'run', 'ran', 'went', 'go', 'history']"
   ]
  },
  {
   "cell_type": "code",
   "execution_count": 6,
   "id": "74ca3904-b870-45db-bb33-27bdcc6d4a53",
   "metadata": {},
   "outputs": [],
   "source": [
    "stemming = PorterStemmer()"
   ]
  },
  {
   "cell_type": "code",
   "execution_count": 7,
   "id": "cf6b374c-ef46-43cc-b228-bb8b31863aaf",
   "metadata": {},
   "outputs": [
    {
     "name": "stdout",
     "output_type": "stream",
     "text": [
      "play ---> play\n",
      "plays ---> play\n",
      "playing ---> play\n",
      "played ---> play\n",
      "run ---> run\n",
      "ran ---> ran\n",
      "went ---> went\n",
      "go ---> go\n",
      "history ---> histori\n"
     ]
    }
   ],
   "source": [
    "for word in words:\n",
    "    print(f'{word} ---> {stemming.stem(word)}')"
   ]
  },
  {
   "cell_type": "code",
   "execution_count": 8,
   "id": "f4389c98-5815-4e57-98bb-4f5407bf8a94",
   "metadata": {},
   "outputs": [
    {
     "data": {
      "text/plain": [
       "'congratul'"
      ]
     },
     "execution_count": 8,
     "metadata": {},
     "output_type": "execute_result"
    }
   ],
   "source": [
    "stemming.stem(\"congratulations\")"
   ]
  },
  {
   "cell_type": "code",
   "execution_count": 9,
   "id": "1ccebd1e-f81e-4076-99bf-e5d944ddb74b",
   "metadata": {},
   "outputs": [
    {
     "data": {
      "text/plain": [
       "'sit'"
      ]
     },
     "execution_count": 9,
     "metadata": {},
     "output_type": "execute_result"
    }
   ],
   "source": [
    "stemming.stem('sitting')"
   ]
  },
  {
   "cell_type": "code",
   "execution_count": 10,
   "id": "85dde059-d2c5-4a3c-a195-0bee5e8809bf",
   "metadata": {},
   "outputs": [],
   "source": [
    "## For some words stemming doesn't give us a good answer \n",
    "## like history, congratulations, etc."
   ]
  },
  {
   "cell_type": "markdown",
   "id": "1da7df84-376d-4e4c-b180-a0c162e5fb18",
   "metadata": {},
   "source": [
    "## RegexpStemmer"
   ]
  },
  {
   "cell_type": "code",
   "execution_count": 14,
   "id": "6f36a635-ad80-4255-8d13-5ba299458349",
   "metadata": {},
   "outputs": [],
   "source": [
    "from nltk.stem import RegexpStemmer"
   ]
  },
  {
   "cell_type": "code",
   "execution_count": 15,
   "id": "ac1df50b-5199-44a6-b43e-e1450022ede4",
   "metadata": {},
   "outputs": [],
   "source": [
    "reg_stemmer = RegexpStemmer('ing$|s$|e$|able$', min=4)"
   ]
  },
  {
   "cell_type": "code",
   "execution_count": 21,
   "id": "a38ce78f-b625-41dd-bf71-69662e2efb75",
   "metadata": {},
   "outputs": [
    {
     "name": "stdout",
     "output_type": "stream",
     "text": [
      "play\n",
      "play\n",
      "play\n",
      "played\n",
      "run\n",
      "ran\n",
      "went\n",
      "go\n",
      "history\n"
     ]
    }
   ],
   "source": [
    "for word in words:\n",
    "    print(reg_stemmer.stem(word))"
   ]
  },
  {
   "cell_type": "markdown",
   "id": "4b16711f-c475-4869-b2e7-ba06e4af3423",
   "metadata": {},
   "source": [
    "## Snowball Stemmer"
   ]
  },
  {
   "cell_type": "code",
   "execution_count": 22,
   "id": "5f3e98db-311b-47f7-8746-0983fdc46ee0",
   "metadata": {},
   "outputs": [],
   "source": [
    "from nltk.stem import SnowballStemmer"
   ]
  },
  {
   "cell_type": "code",
   "execution_count": 23,
   "id": "366a923e-9bb8-490a-a219-7554816cb30b",
   "metadata": {},
   "outputs": [],
   "source": [
    "snowball_stem = SnowballStemmer('english')"
   ]
  },
  {
   "cell_type": "code",
   "execution_count": 25,
   "id": "2914fc24-2671-4ae9-82eb-3213479114e0",
   "metadata": {},
   "outputs": [
    {
     "name": "stdout",
     "output_type": "stream",
     "text": [
      "play ---> play\n",
      "plays ---> play\n",
      "playing ---> play\n",
      "played ---> play\n",
      "run ---> run\n",
      "ran ---> ran\n",
      "went ---> went\n",
      "go ---> go\n",
      "history ---> histori\n"
     ]
    }
   ],
   "source": [
    "for word in words:\n",
    "    print(f'{word} ---> {snowball_stem.stem(word)}')"
   ]
  },
  {
   "cell_type": "code",
   "execution_count": 31,
   "id": "084d797d-91f8-41ac-8c55-421c3d7c1fe7",
   "metadata": {},
   "outputs": [
    {
     "name": "stdout",
     "output_type": "stream",
     "text": [
      "sportingli\n",
      "sport\n"
     ]
    }
   ],
   "source": [
    "print(stemming.stem('sportingly'))  # Porter Stemmer\n",
    "print(snowball_stem.stem('sportingly'))  # Snowball Stemmer\n",
    "#performs better than porter stemmmer in certain cases"
   ]
  },
  {
   "cell_type": "code",
   "execution_count": 35,
   "id": "875b39a6-7edf-456a-9e44-82434e807dd8",
   "metadata": {},
   "outputs": [
    {
     "data": {
      "text/plain": [
       "('go', 'congratul', 'goe')"
      ]
     },
     "execution_count": 35,
     "metadata": {},
     "output_type": "execute_result"
    }
   ],
   "source": [
    "snowball_stem.stem('going'), snowball_stem.stem('congratulations'),  snowball_stem.stem('goes')"
   ]
  },
  {
   "cell_type": "code",
   "execution_count": null,
   "id": "bbcbd0a6-b159-4044-862e-bc5e00916839",
   "metadata": {},
   "outputs": [],
   "source": []
  }
 ],
 "metadata": {
  "kernelspec": {
   "display_name": "Python 3 (ipykernel)",
   "language": "python",
   "name": "python3"
  },
  "language_info": {
   "codemirror_mode": {
    "name": "ipython",
    "version": 3
   },
   "file_extension": ".py",
   "mimetype": "text/x-python",
   "name": "python",
   "nbconvert_exporter": "python",
   "pygments_lexer": "ipython3",
   "version": "3.12.1"
  }
 },
 "nbformat": 4,
 "nbformat_minor": 5
}
