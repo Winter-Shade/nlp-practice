{
 "cells": [
  {
   "cell_type": "markdown",
   "id": "52b5afb6-dcbe-4271-b61a-5c8258071eb8",
   "metadata": {},
   "source": [
    "## Lemmatizer\n",
    "WordnetLemmatizer"
   ]
  },
  {
   "cell_type": "code",
   "execution_count": 6,
   "id": "32b9ebae-1267-4b62-a124-dd620001eeb0",
   "metadata": {},
   "outputs": [
    {
     "name": "stderr",
     "output_type": "stream",
     "text": [
      "[nltk_data] Downloading package wordnet to\n",
      "[nltk_data]     /home/codespace/nltk_data...\n"
     ]
    },
    {
     "data": {
      "text/plain": [
       "True"
      ]
     },
     "execution_count": 6,
     "metadata": {},
     "output_type": "execute_result"
    }
   ],
   "source": [
    "from nltk.stem import WordNetLemmatizer\n",
    "import nltk\n",
    "nltk.download('wordnet')"
   ]
  },
  {
   "cell_type": "code",
   "execution_count": 7,
   "id": "e58ba449-73a5-4f85-9e11-d3d60fd38b19",
   "metadata": {},
   "outputs": [],
   "source": [
    "lemmatizer = WordNetLemmatizer()"
   ]
  },
  {
   "cell_type": "code",
   "execution_count": 13,
   "id": "62e978c7-f50f-4078-bba9-a035fde72d40",
   "metadata": {},
   "outputs": [
    {
     "data": {
      "text/plain": [
       "('go', 'go')"
      ]
     },
     "execution_count": 13,
     "metadata": {},
     "output_type": "execute_result"
    }
   ],
   "source": [
    "lemmatizer.lemmatize(\"goes\"), lemmatizer.lemmatize(\"going\", pos='v')"
   ]
  },
  {
   "cell_type": "code",
   "execution_count": 17,
   "id": "95db81ba-d660-495d-81a9-a08c13e352b1",
   "metadata": {},
   "outputs": [
    {
     "data": {
      "text/plain": [
       "'congratulation'"
      ]
     },
     "execution_count": 17,
     "metadata": {},
     "output_type": "execute_result"
    }
   ],
   "source": [
    "lemmatizer.lemmatize(\"congratulations\", pos='n')"
   ]
  },
  {
   "cell_type": "code",
   "execution_count": 22,
   "id": "bbbff81e-dd92-48b4-ad67-d0bd8becf1bf",
   "metadata": {},
   "outputs": [
    {
     "data": {
      "text/plain": [
       "('history', 'historical')"
      ]
     },
     "execution_count": 22,
     "metadata": {},
     "output_type": "execute_result"
    }
   ],
   "source": [
    "lemmatizer.lemmatize(\"history\"), lemmatizer.lemmatize(\"historical\", pos='n')"
   ]
  },
  {
   "cell_type": "code",
   "execution_count": null,
   "id": "3d1704c0-2b23-4e82-93c7-822f847a2162",
   "metadata": {},
   "outputs": [],
   "source": []
  }
 ],
 "metadata": {
  "kernelspec": {
   "display_name": "Python 3 (ipykernel)",
   "language": "python",
   "name": "python3"
  },
  "language_info": {
   "codemirror_mode": {
    "name": "ipython",
    "version": 3
   },
   "file_extension": ".py",
   "mimetype": "text/x-python",
   "name": "python",
   "nbconvert_exporter": "python",
   "pygments_lexer": "ipython3",
   "version": "3.12.1"
  }
 },
 "nbformat": 4,
 "nbformat_minor": 5
}
